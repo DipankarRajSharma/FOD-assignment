{
 "cells": [
  {
   "cell_type": "markdown",
   "id": "7b7f8f1f",
   "metadata": {},
   "source": [
    "### Question 1"
   ]
  },
  {
   "cell_type": "markdown",
   "id": "8ba1a94b",
   "metadata": {},
   "source": [
    "### >> Before you proceed:"
   ]
  },
  {
   "cell_type": "markdown",
   "id": "2fc1c043",
   "metadata": {},
   "source": [
    "You could just work with the included `account.py` file, and skip this Notebook entirely if you wish to do so. This Notebook is just a repetition of the `account.py` file, and is laid out in a step-by-step way to make it easy for you to get started with."
   ]
  },
  {
   "cell_type": "markdown",
   "id": "312a2623",
   "metadata": {},
   "source": [
    "### Since you've decided to continue ..."
   ]
  },
  {
   "cell_type": "markdown",
   "id": "c7f73a09",
   "metadata": {},
   "source": [
    "### >> STEP 0:"
   ]
  },
  {
   "cell_type": "markdown",
   "id": "a82e5584",
   "metadata": {},
   "source": [
    "### Take a deep breath! Getting some things ready for you. Just run the cell below, and sit back and relax!"
   ]
  },
  {
   "cell_type": "code",
   "execution_count": 1,
   "id": "01497d85",
   "metadata": {},
   "outputs": [
    {
     "name": "stdout",
     "output_type": "stream",
     "text": [
      "Setting up a few accounts to get you started...\n",
      "\n",
      "User ID generated for user. UserID is:1010. Filling in the user details as provided.\n",
      "User ID generated for user. UserID is:1011. Filling in the user details as provided.\n",
      "User ID generated for user. UserID is:1012. Filling in the user details as provided.\n",
      "Account Created Successfully!! Account number is: 330000011 with available balance: 1500\n",
      "Account Created Successfully!! Account number is: 330000012 with available balance: 1500\n",
      "Account Created Successfully!! Account number is: 330000013 with available balance: 1500\n"
     ]
    }
   ],
   "source": [
    "import utils\n",
    "utils.setup()"
   ]
  },
  {
   "cell_type": "markdown",
   "id": "a5f969f6",
   "metadata": {},
   "source": [
    "###  ------- YOUR WORK STARTS HERE -------"
   ]
  },
  {
   "cell_type": "markdown",
   "id": "80a5f85d",
   "metadata": {},
   "source": [
    "### >> STEP 1:"
   ]
  },
  {
   "cell_type": "markdown",
   "id": "0b6121f6",
   "metadata": {},
   "source": [
    "### Please complete the appropriate methods (`deposit`, `withdraw`, `transfer_funds`) in the `Account` class given below."
   ]
  },
  {
   "cell_type": "code",
   "execution_count": 13,
   "id": "7a1633b9",
   "metadata": {},
   "outputs": [],
   "source": [
    "import wallet\n",
    "import csv\n",
    "\n",
    "TRANSACTION_RECORDS = 'account_transactions.csv'\n",
    "USER_RECORDS = 'user_records.csv'\n",
    "\n",
    "\n",
    "class Account:\n",
    "\n",
    "    ''' This class provides multiple functionalities for a pre-existing user account. A UserID, and a transaction account is first needed to be able use this \n",
    "    class. The User ID can be generated from the Customer class, and the transacion account can be created using the NewAccount class.\n",
    "\n",
    "    Usage:\n",
    "        uid = 1001\n",
    "        account_number = 3330000407 (optional)\n",
    "        myaccount = Account(uid,account_number)\n",
    "\n",
    "    Returns:\n",
    "        An account object with functions to view details, deposit, withdraw, and transfer money.\n",
    "\n",
    "    Example 1 (passing both UID and Account number):\n",
    "\n",
    "        myaccount = Account(1001, 3330000407)\n",
    "\n",
    "        myaccount.deposit(100)\n",
    "        > Deposits money (Rs. 100) to account number 1001.\n",
    "\n",
    "        myaccount.withdraw(50)\n",
    "        > Withdraws money (Rs. 50) from account number 1001.\n",
    "\n",
    "\n",
    "    Example 2 (without passing in the Account number):\n",
    "\n",
    "        youraccount = newAccount(1002)\n",
    "\n",
    "        youraccount.deposit(100)\n",
    "        youraccount.view_balance()\n",
    "        youraccount.view_account_details()\n",
    "\n",
    "    '''\n",
    "\n",
    "    _attributes = (\"UID\", \"Account Number\", \"Balance\")\n",
    "\n",
    "    def __init__(self, usr_id, acc_number=None):\n",
    "\n",
    "        self.usr_id = usr_id\n",
    "        self.acc_number = acc_number\n",
    "        if self.acc_number is None:\n",
    "            self.acc_number = self._get_account_number()\n",
    "\n",
    "    def _get_account_number(self, uid=None):\n",
    "\n",
    "        if not uid:\n",
    "            uid = self.usr_id\n",
    "        with open(TRANSACTION_RECORDS, 'r') as file:\n",
    "            reader = csv.reader(file)\n",
    "            next(reader)\n",
    "            for row in reader:\n",
    "                if row:\n",
    "                    if int(row[0]) == int(uid):\n",
    "                        return row[1]\n",
    "        print(\"Account not found. Please create a new account using the newAccount option.\")\n",
    "\n",
    "    def view_account_details(self):\n",
    "\n",
    "        with open(TRANSACTION_RECORDS, 'r') as file:\n",
    "            reader = csv.reader(file)\n",
    "            next(reader)\n",
    "            for row in reader:\n",
    "                if row:\n",
    "                    if int(row[0]) == int(self.usr_id):\n",
    "                        details = dict(zip(self._attributes[1:], row[1:]))\n",
    "\n",
    "        for keys, values in details.items():\n",
    "            print(\"{} : {}\".format(keys, values))\n",
    "\n",
    "    def view_balance(self, uid=None):\n",
    "\n",
    "        if not uid:\n",
    "            uid = self.usr_id\n",
    "\n",
    "        with open(TRANSACTION_RECORDS, 'r') as file:\n",
    "            reader = csv.reader(file)\n",
    "            next(reader)\n",
    "            for row in reader:\n",
    "                if row:\n",
    "                    if int(row[0]) == int(uid):\n",
    "                        return row[2]\n",
    "        print(\"Error occurred. Please contact support.\")\n",
    "\n",
    "\n",
    "    def deposit(self, amount):\n",
    "        with open(\"account_transactions.csv\", 'r+', newline='') as file: # read and write file using 'r+'.\n",
    "            reader = csv.reader(file)\n",
    "            next(reader)  # skip header row\n",
    "        \n",
    "            rows = list(reader) # creates a list called rows and inputs data of csv file into it.\n",
    "            if not rows:\n",
    "                print(\"Transaction records are empty. Please create a new account using the newAccount option.\")\n",
    "                return\n",
    "        \n",
    "            for row in rows:\n",
    "                if row and int(row[0]) == int(self.usr_id): # checks if the user_id matches the user_id of the current account\n",
    "                    current_balance = int(row[2])\n",
    "                    updated_balance = current_balance + amount\n",
    "                    row[2] = updated_balance\n",
    "                \n",
    "                    file.seek(0) # moves file pointer to the beginning\n",
    "                    file.truncate() # clears the remaining content of the file\n",
    "                \n",
    "                    writer = csv.writer(file) # creates a CSV writer object to write rows to the file\n",
    "                    writer.writerow(['UID', 'ACNumber', 'Balance']) # writes the header row\n",
    "                    writer.writerows(rows) # writes the updated rows to the file\n",
    "                    break\n",
    "        \n",
    "            else:\n",
    "                print(\"Account not found. Please create a new account using the newAccount option.\")\n",
    "                return\n",
    "\n",
    "        print(\"Deposited: Rs.\",amount)\n",
    "        print(\"Updated Balance: Rs.\", updated_balance)\n",
    "\n",
    "    def withdraw(self, amount):\n",
    "        with open(\"account_transactions.csv\", 'r+', newline='') as file:\n",
    "            reader = csv.reader(file)\n",
    "            next(reader)  # skip header row\n",
    "        \n",
    "            rows = list(reader)\n",
    "            if not rows:\n",
    "                print(\"Transaction records are empty. Please create a new account using the newAccount option.\")\n",
    "                return\n",
    "        \n",
    "            for row in rows:\n",
    "                if row and int(row[0]) == int(self.usr_id):\n",
    "                    current_balance = int(row[2])\n",
    "                    if amount <= current_balance:\n",
    "                        updated_balance = current_balance - amount\n",
    "                        row[2] = updated_balance\n",
    "                    \n",
    "                        file.seek(0)\n",
    "                        file.truncate()\n",
    "                    \n",
    "                        writer = csv.writer(file) # creates a CSV writer object to write rows to the file\n",
    "                        writer.writerow(['UID', 'ACNumber', 'Balance']) # writes the header row\n",
    "                        writer.writerows(rows) # writes the updated rows to the file\n",
    "                    \n",
    "                        break\n",
    "                    else:\n",
    "                        print(\"Insufficient balance.\")\n",
    "                        return\n",
    "        \n",
    "            else:\n",
    "                print(\"Account not found. Please create a new account using the newAccount option.\")\n",
    "                return\n",
    "\n",
    "        print(\"Withdrawn: Rs.\", amount)\n",
    "        print(\"Updated Balance: Rs.\", updated_balance)\n",
    "    \n",
    "    def transfer_funds(self, uid, amount):\n",
    "        with open(\"account_transactions.csv\", 'r+', newline='') as file:\n",
    "            reader = csv.reader(file) \n",
    "            next(reader)  \n",
    "            \n",
    "            rows = list(reader)\n",
    "            if not rows:\n",
    "                print(\"Transaction records are empty. Please create a new account using the newAccount option.\")\n",
    "                return\n",
    "            from_account_found = False\n",
    "            to_account_found = False\n",
    "            for row in rows:\n",
    "                if row and int(row[0]) == int(self.usr_id):\n",
    "                    current_balance = int(row[2])\n",
    "\n",
    "                    # to check if the account has sufficient balance for the transfer\n",
    "                    if amount <= current_balance:\n",
    "                        updated_balance = current_balance - amount\n",
    "\n",
    "                        # updates the balance in the row\n",
    "                        row[2] = updated_balance\n",
    "                        from_account_found = True\n",
    "                        break\n",
    "                    else:\n",
    "                        print(\"Insufficient balance.\")\n",
    "                        return\n",
    "            else:\n",
    "                print(\"Account not found. Please create a new account using the newAccount option.\")\n",
    "                return\n",
    "\n",
    "            for row in rows:\n",
    "                if row and int(row[0]) == int(uid):\n",
    "                    current_balance = int(row[2])\n",
    "                    update_balance = current_balance + amount\n",
    "\n",
    "                    # updates the balance in the row\n",
    "                    row[2] = update_balance\n",
    "                    to_account_found = True\n",
    "                    break\n",
    "\n",
    "\n",
    "            if not from_account_found:\n",
    "                print(\"Account not found. Please create a new account using the newAccount option.\")\n",
    "                return\n",
    "\n",
    "            if not to_account_found:\n",
    "                print(\"To-account not found.\")\n",
    "                return\n",
    "\n",
    "            file.seek(0)   # moves file pointer to the beginning\n",
    "            file.truncate()  # clears the remaining content of the fil\n",
    "            writer = csv.writer(file) \n",
    "            writer.writerow(['UID', 'ACNumber', 'Balance'])  \n",
    "            writer.writerows(rows)  \n",
    "\n",
    "\n",
    "        print(\"Transferred: Rs.\" , amount,\"from account number\", self.usr_id , \"to UID {uid}\")\n",
    "        print(\"Updated Balance for UID\",self.usr_id ,\": Rs.\" ,updated_balance)\n",
    "        print(\"Updated Balance for UID\" ,{uid},\": Rs.\", update_balance)\n"
   ]
  },
  {
   "cell_type": "markdown",
   "id": "c8e2a8b2",
   "metadata": {},
   "source": [
    "Now that you've completed the main part, let us see if everything works as intended!!"
   ]
  },
  {
   "cell_type": "markdown",
   "id": "0851ac14",
   "metadata": {},
   "source": [
    "### >> STEP 2: "
   ]
  },
  {
   "cell_type": "markdown",
   "id": "b0aa2c76",
   "metadata": {},
   "source": [
    "### Create simple objects and test your methods to verify if they work as desired. "
   ]
  },
  {
   "cell_type": "code",
   "execution_count": 17,
   "id": "e73fc3b4",
   "metadata": {},
   "outputs": [],
   "source": [
    "test_user = wallet.Customer(1001)"
   ]
  },
  {
   "cell_type": "code",
   "execution_count": 18,
   "id": "56e3520d",
   "metadata": {},
   "outputs": [
    {
     "name": "stdout",
     "output_type": "stream",
     "text": [
      "Name    : Daniel Shrestha\n",
      "DOB     : 02/07/2002\n",
      "Address : Pulchowk\n",
      "Phone   : 9841400050\n",
      "Email   : d.shrestha@gmail.com\n"
     ]
    }
   ],
   "source": [
    "test_user.view_profile()"
   ]
  },
  {
   "cell_type": "code",
   "execution_count": 19,
   "id": "920c499d",
   "metadata": {},
   "outputs": [
    {
     "data": {
      "text/plain": [
       "1001"
      ]
     },
     "execution_count": 19,
     "metadata": {},
     "output_type": "execute_result"
    }
   ],
   "source": [
    "test_user.usr_id"
   ]
  },
  {
   "cell_type": "code",
   "execution_count": 20,
   "id": "1be5c0e0",
   "metadata": {},
   "outputs": [],
   "source": [
    "test_account = Account(test_user.usr_id)"
   ]
  },
  {
   "cell_type": "code",
   "execution_count": 21,
   "id": "cd2fed35",
   "metadata": {},
   "outputs": [
    {
     "data": {
      "text/plain": [
       "'330000002'"
      ]
     },
     "execution_count": 21,
     "metadata": {},
     "output_type": "execute_result"
    }
   ],
   "source": [
    "test_account.acc_number"
   ]
  },
  {
   "cell_type": "code",
   "execution_count": 22,
   "id": "cb127d1e",
   "metadata": {},
   "outputs": [
    {
     "name": "stdout",
     "output_type": "stream",
     "text": [
      "Account Number : 330000002\n",
      "Balance : 1103\n"
     ]
    }
   ],
   "source": [
    "test_account.view_account_details()"
   ]
  },
  {
   "cell_type": "code",
   "execution_count": 23,
   "id": "3e50959a",
   "metadata": {},
   "outputs": [
    {
     "data": {
      "text/plain": [
       "'1103'"
      ]
     },
     "execution_count": 23,
     "metadata": {},
     "output_type": "execute_result"
    }
   ],
   "source": [
    "test_account.view_balance()"
   ]
  },
  {
   "cell_type": "markdown",
   "id": "90700ac2",
   "metadata": {},
   "source": [
    "#### Checking the methods that you've implemented ..."
   ]
  },
  {
   "cell_type": "code",
   "execution_count": 24,
   "id": "71e39fb4",
   "metadata": {},
   "outputs": [
    {
     "name": "stdout",
     "output_type": "stream",
     "text": [
      "Deposited: Rs. 700\n",
      "Updated Balance: Rs. 1803\n"
     ]
    }
   ],
   "source": [
    "test_account.deposit(700)  "
   ]
  },
  {
   "cell_type": "code",
   "execution_count": 25,
   "id": "e66bf301",
   "metadata": {},
   "outputs": [
    {
     "name": "stdout",
     "output_type": "stream",
     "text": [
      "Withdrawn: Rs. 350\n",
      "Updated Balance: Rs. 1453\n"
     ]
    }
   ],
   "source": [
    "test_account.withdraw(350) "
   ]
  },
  {
   "cell_type": "code",
   "execution_count": 26,
   "id": "fa014b35",
   "metadata": {},
   "outputs": [
    {
     "name": "stdout",
     "output_type": "stream",
     "text": [
      "Transferred: Rs. 747 from account number 1001 to UID {uid}\n",
      "Updated Balance for UID 1001 : Rs. 706\n",
      "Updated Balance for UID {1003} : Rs. 2994\n"
     ]
    }
   ],
   "source": [
    "test_account.transfer_funds(1003, 747) "
   ]
  },
  {
   "cell_type": "markdown",
   "id": "e8b8fe62",
   "metadata": {},
   "source": [
    "### >> STEP 3:"
   ]
  },
  {
   "cell_type": "markdown",
   "id": "4bbf81de",
   "metadata": {},
   "source": [
    "#### Once you complete the methods in STEP 1, you can copy and paste the entire content of the above cell (STEP 1 only) to the included `account.py` python file (replacing the already existing content of the `account.py` script entirely)."
   ]
  },
  {
   "cell_type": "markdown",
   "id": "97006459",
   "metadata": {},
   "source": [
    "### >> STEP 4:"
   ]
  },
  {
   "cell_type": "markdown",
   "id": "7c9c9811",
   "metadata": {},
   "source": [
    "### Now import and run the `runtest ` method from `utils.py` file to see if everything works as intended (as shown below)."
   ]
  },
  {
   "cell_type": "code",
   "execution_count": 27,
   "id": "48375bbd",
   "metadata": {
    "scrolled": false
   },
   "outputs": [
    {
     "name": "stdout",
     "output_type": "stream",
     "text": [
      "Starting the TEST by registering a new user and creating user profile.\n",
      "\n",
      "User ID generated for user. UserID is:1013. Filling in the user details as provided.\n",
      "\n",
      "Viewing User profile details:\n",
      "\n",
      "Name    : Jenny Wallace\n",
      "DOB     : 03/09/2003\n",
      "Address : Oldenberg\n",
      "Phone   : 9841420082\n",
      "Email   : j.wallace@gmail.com\n",
      "\n",
      "Updating the user Address to :'Baneshwor-KTM'\n",
      "User(UID: 1013)'s Address updated successfully to Baneshwor-KTM!\n",
      "\n",
      "Viewing user profile details after updating address:\n",
      "\n",
      "Name    : Jenny Wallace\n",
      "DOB     : 03/09/2003\n",
      "Address : Baneshwor-KTM\n",
      "Phone   : 9841420082\n",
      "Email   : j.wallace@gmail.com\n",
      "\n",
      "Updating the user phone number to :9851011121\n",
      "User(UID: 1013)'s Phone updated successfully to 9851011121!\n",
      "\n",
      "Viewing user profile details after updating phone number:\n",
      "\n",
      "Name    : Jenny Wallace\n",
      "DOB     : 03/09/2003\n",
      "Address : Baneshwor-KTM\n",
      "Phone   : 9851011121\n",
      "Email   : j.wallace@gmail.com\n",
      "\n",
      "Proceeding to create a new transaction account for our user with Rs. 1500 starting balance.\n",
      "\n",
      "Account Created Successfully!! Account number is: 330000014 with available balance: 1500\n",
      "\n",
      "Creating two more user profiles and transaction accounts with Rs. 1500 starting balance each.\n",
      "\n",
      "User ID generated for user. UserID is:1014. Filling in the user details as provided.\n",
      "User ID generated for user. UserID is:1015. Filling in the user details as provided.\n",
      "Account Created Successfully!! Account number is: 330000015 with available balance: 1500\n",
      "Account Created Successfully!! Account number is: 330000016 with available balance: 1500\n",
      "\n",
      "Now *** TESTING YOUR CODE *** on the Account class for the first user!\n",
      "\n",
      "Viewing account details.\n",
      "Account Number : 330000014\n",
      "Balance : 1500\n",
      "\n",
      "Viewing balance in the account.\n",
      "The balance is:  1500\n",
      "\n",
      "Deposit Rs 100 in the account.\n",
      "\n",
      "\n",
      "The 'deposit' method in the 'Account' class needs to be completed to pass this step in the test and proceed to next step!!\n",
      "\n",
      "TEST FAILED!!\n"
     ]
    }
   ],
   "source": [
    "import utils\n",
    "utils.runtest()"
   ]
  },
  {
   "cell_type": "markdown",
   "id": "4081fd58",
   "metadata": {},
   "source": [
    "### If everything runs fine, you should see a message along the lines of : `Preliminary tests ran successfully!!`"
   ]
  },
  {
   "cell_type": "markdown",
   "id": "69fcb8a1",
   "metadata": {},
   "source": [
    "###  ------- END OF TASK 1 -------"
   ]
  }
 ],
 "metadata": {
  "kernelspec": {
   "display_name": "Python 3 (ipykernel)",
   "language": "python",
   "name": "python3"
  },
  "language_info": {
   "codemirror_mode": {
    "name": "ipython",
    "version": 3
   },
   "file_extension": ".py",
   "mimetype": "text/x-python",
   "name": "python",
   "nbconvert_exporter": "python",
   "pygments_lexer": "ipython3",
   "version": "3.10.10"
  }
 },
 "nbformat": 4,
 "nbformat_minor": 5
}
